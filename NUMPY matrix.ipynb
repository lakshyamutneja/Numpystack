{
 "cells": [
  {
   "cell_type": "code",
   "execution_count": 1,
   "metadata": {
    "collapsed": true
   },
   "outputs": [],
   "source": [
    "import numpy as np\n"
   ]
  },
  {
   "cell_type": "code",
   "execution_count": 3,
   "metadata": {},
   "outputs": [],
   "source": [
    "M=np.array([[1,2],[3,4]]) #np 2-darray"
   ]
  },
  {
   "cell_type": "code",
   "execution_count": 4,
   "metadata": {
    "collapsed": true
   },
   "outputs": [],
   "source": [
    "l=[[1,2],[3,4]]"
   ]
  },
  {
   "cell_type": "code",
   "execution_count": 5,
   "metadata": {},
   "outputs": [
    {
     "data": {
      "text/plain": [
       "[1, 2]"
      ]
     },
     "execution_count": 5,
     "metadata": {},
     "output_type": "execute_result"
    }
   ],
   "source": [
    "l[0]"
   ]
  },
  {
   "cell_type": "code",
   "execution_count": 6,
   "metadata": {},
   "outputs": [
    {
     "data": {
      "text/plain": [
       "1"
      ]
     },
     "execution_count": 6,
     "metadata": {},
     "output_type": "execute_result"
    }
   ],
   "source": [
    "l[0][0]"
   ]
  },
  {
   "cell_type": "code",
   "execution_count": 8,
   "metadata": {},
   "outputs": [
    {
     "data": {
      "text/plain": [
       "1"
      ]
     },
     "execution_count": 8,
     "metadata": {},
     "output_type": "execute_result"
    }
   ],
   "source": [
    "M[0][0]"
   ]
  },
  {
   "cell_type": "code",
   "execution_count": 9,
   "metadata": {},
   "outputs": [
    {
     "data": {
      "text/plain": [
       "1"
      ]
     },
     "execution_count": 9,
     "metadata": {},
     "output_type": "execute_result"
    }
   ],
   "source": [
    "M[0,0]  # more easy to use"
   ]
  },
  {
   "cell_type": "code",
   "execution_count": 10,
   "metadata": {
    "collapsed": true
   },
   "outputs": [],
   "source": [
    "M2=np.matrix([\n",
    "    [1,2],[3,4]\n",
    "])"
   ]
  },
  {
   "cell_type": "code",
   "execution_count": 11,
   "metadata": {},
   "outputs": [
    {
     "data": {
      "text/plain": [
       "matrix([[1, 2],\n",
       "        [3, 4]])"
      ]
     },
     "execution_count": 11,
     "metadata": {},
     "output_type": "execute_result"
    }
   ],
   "source": [
    "M2"
   ]
  },
  {
   "cell_type": "code",
   "execution_count": 13,
   "metadata": {},
   "outputs": [
    {
     "data": {
      "text/plain": [
       "array([[1, 2],\n",
       "       [3, 4]])"
      ]
     },
     "execution_count": 13,
     "metadata": {},
     "output_type": "execute_result"
    }
   ],
   "source": [
    "m1=np.array(M2)   #it is highly recommended to convert any matrix to numpy array\n",
    "m1"
   ]
  },
  {
   "cell_type": "code",
   "execution_count": 15,
   "metadata": {},
   "outputs": [
    {
     "data": {
      "text/plain": [
       "array([[1, 3],\n",
       "       [2, 4]])"
      ]
     },
     "execution_count": 15,
     "metadata": {},
     "output_type": "execute_result"
    }
   ],
   "source": [
    "m1.T #transpose of matrix"
   ]
  },
  {
   "cell_type": "code",
   "execution_count": 16,
   "metadata": {
    "collapsed": true
   },
   "outputs": [],
   "source": [
    "##Generating matrix to work with"
   ]
  },
  {
   "cell_type": "code",
   "execution_count": 18,
   "metadata": {},
   "outputs": [
    {
     "data": {
      "text/plain": [
       "array([ 0.,  0.,  0.,  0.,  0.,  0.,  0.,  0.,  0.,  0.])"
      ]
     },
     "execution_count": 18,
     "metadata": {},
     "output_type": "execute_result"
    }
   ],
   "source": [
    "Z=np.zeros(10)# this will create vector of 10 elements of value equal to 0\n",
    "Z"
   ]
  },
  {
   "cell_type": "code",
   "execution_count": 19,
   "metadata": {},
   "outputs": [
    {
     "data": {
      "text/plain": [
       "array([[ 0.,  0.,  0.,  0.,  0.],\n",
       "       [ 0.,  0.,  0.,  0.,  0.],\n",
       "       [ 0.,  0.,  0.,  0.,  0.],\n",
       "       [ 0.,  0.,  0.,  0.,  0.],\n",
       "       [ 0.,  0.,  0.,  0.,  0.],\n",
       "       [ 0.,  0.,  0.,  0.,  0.],\n",
       "       [ 0.,  0.,  0.,  0.,  0.],\n",
       "       [ 0.,  0.,  0.,  0.,  0.],\n",
       "       [ 0.,  0.,  0.,  0.,  0.],\n",
       "       [ 0.,  0.,  0.,  0.,  0.]])"
      ]
     },
     "execution_count": 19,
     "metadata": {},
     "output_type": "execute_result"
    }
   ],
   "source": [
    "z=np.zeros((10,5))\n",
    "z"
   ]
  },
  {
   "cell_type": "code",
   "execution_count": 20,
   "metadata": {
    "collapsed": true
   },
   "outputs": [],
   "source": [
    "o=np.ones([5,10])"
   ]
  },
  {
   "cell_type": "code",
   "execution_count": 21,
   "metadata": {},
   "outputs": [
    {
     "data": {
      "text/plain": [
       "array([[ 1.,  1.,  1.,  1.,  1.,  1.,  1.,  1.,  1.,  1.],\n",
       "       [ 1.,  1.,  1.,  1.,  1.,  1.,  1.,  1.,  1.,  1.],\n",
       "       [ 1.,  1.,  1.,  1.,  1.,  1.,  1.,  1.,  1.,  1.],\n",
       "       [ 1.,  1.,  1.,  1.,  1.,  1.,  1.,  1.,  1.,  1.],\n",
       "       [ 1.,  1.,  1.,  1.,  1.,  1.,  1.,  1.,  1.,  1.]])"
      ]
     },
     "execution_count": 21,
     "metadata": {},
     "output_type": "execute_result"
    }
   ],
   "source": [
    "o\n"
   ]
  },
  {
   "cell_type": "code",
   "execution_count": 22,
   "metadata": {
    "collapsed": true
   },
   "outputs": [],
   "source": [
    "m=np.random.random((10,10))  #random numbers(smaller than 1  and greater than 0)\n"
   ]
  },
  {
   "cell_type": "code",
   "execution_count": 23,
   "metadata": {},
   "outputs": [
    {
     "data": {
      "text/plain": [
       "array([[ 0.87912176,  0.58334965,  0.49014208,  0.96038733,  0.3979412 ,\n",
       "         0.74233476,  0.39392804,  0.20223233,  0.59395836,  0.89831129],\n",
       "       [ 0.70975273,  0.47492709,  0.89157655,  0.01907463,  0.63940134,\n",
       "         0.60346114,  0.09639655,  0.49429459,  0.98224315,  0.04907119],\n",
       "       [ 0.34826225,  0.15006079,  0.49635   ,  0.48744415,  0.46657491,\n",
       "         0.93841338,  0.68486575,  0.44988894,  0.22693767,  0.06376793],\n",
       "       [ 0.70804374,  0.2742412 ,  0.50609293,  0.56328026,  0.59496026,\n",
       "         0.36650378,  0.09038412,  0.64071792,  0.85493315,  0.15436958],\n",
       "       [ 0.31111516,  0.33139808,  0.03440808,  0.90532438,  0.50519202,\n",
       "         0.59211046,  0.90874467,  0.26842063,  0.46612759,  0.41572805],\n",
       "       [ 0.34919225,  0.54773402,  0.55128733,  0.14443451,  0.97024284,\n",
       "         0.75827777,  0.79315915,  0.51557686,  0.97039791,  0.34059022],\n",
       "       [ 0.90440605,  0.66748252,  0.12033327,  0.68228873,  0.42403456,\n",
       "         0.64461695,  0.83245316,  0.8010071 ,  0.44543142,  0.97710221],\n",
       "       [ 0.87799681,  0.74356999,  0.8340135 ,  0.86042667,  0.93365757,\n",
       "         0.61328095,  0.74246484,  0.94748998,  0.45033789,  0.40491655],\n",
       "       [ 0.61467385,  0.47276957,  0.88679288,  0.78126014,  0.62954876,\n",
       "         0.65762947,  0.98577799,  0.16426979,  0.5632557 ,  0.0770222 ],\n",
       "       [ 0.45202393,  0.68580591,  0.96033793,  0.92906902,  0.56101228,\n",
       "         0.07411322,  0.52155899,  0.12178639,  0.56215976,  0.52582379]])"
      ]
     },
     "execution_count": 23,
     "metadata": {},
     "output_type": "execute_result"
    }
   ],
   "source": [
    "m"
   ]
  },
  {
   "cell_type": "code",
   "execution_count": 24,
   "metadata": {},
   "outputs": [
    {
     "data": {
      "text/plain": [
       "0.55981462768194423"
      ]
     },
     "execution_count": 24,
     "metadata": {},
     "output_type": "execute_result"
    }
   ],
   "source": [
    "m.mean() #mean"
   ]
  },
  {
   "cell_type": "code",
   "execution_count": 25,
   "metadata": {},
   "outputs": [
    {
     "data": {
      "text/plain": [
       "0.073801231282106472"
      ]
     },
     "execution_count": 25,
     "metadata": {},
     "output_type": "execute_result"
    }
   ],
   "source": [
    "m.var() #variance"
   ]
  },
  {
   "cell_type": "code",
   "execution_count": 26,
   "metadata": {
    "collapsed": true
   },
   "outputs": [],
   "source": [
    "G=np.random.randn(10,10)"
   ]
  },
  {
   "cell_type": "code",
   "execution_count": 27,
   "metadata": {},
   "outputs": [
    {
     "data": {
      "text/plain": [
       "array([[-0.29260863,  1.0276008 ,  1.81002503, -2.14992491,  1.17762569,\n",
       "         1.05207141,  0.8380857 ,  0.79743597, -0.5596817 , -0.97975104],\n",
       "       [-0.86003076, -0.0756407 , -0.49734653, -0.19087244,  0.59932444,\n",
       "         0.62912823,  0.70238371, -1.6246037 , -0.39306614,  1.04036345],\n",
       "       [ 0.89842589,  1.45288252, -1.2291735 , -0.40763314,  0.32216248,\n",
       "         1.95669427,  0.14675257, -0.35643429,  1.9338971 , -0.98408893],\n",
       "       [ 0.45197037, -0.65402083, -0.86320269,  1.56754138, -1.23846138,\n",
       "         0.8687288 , -0.03193023,  0.40639984,  0.69101295, -0.2194854 ],\n",
       "       [ 1.07433823,  0.14955101,  1.49286704, -0.18117451, -1.40417553,\n",
       "        -1.29994971, -1.69485752,  0.03873181,  0.41029368,  1.08678974],\n",
       "       [ 0.43807489,  1.05616958,  1.6055141 , -0.93782762,  0.09772973,\n",
       "         0.79692812,  0.73092187, -0.23143717, -0.31781387,  1.19314565],\n",
       "       [-0.3051291 ,  0.06198947,  0.23240057, -1.09502383, -0.97743045,\n",
       "         0.795534  ,  1.1415037 ,  0.25496081,  0.98682298,  1.90497156],\n",
       "       [-0.1980708 ,  0.83662664,  0.67203225, -0.78271675,  0.25338134,\n",
       "        -0.30730135, -0.95915462, -1.08769087,  1.04038279,  0.17723767],\n",
       "       [-0.540206  ,  0.16476469, -0.27947803,  1.38986602,  1.1986174 ,\n",
       "        -0.06449749, -0.34901037,  3.22763479, -0.64688455,  0.04025674],\n",
       "       [ 0.31327141,  0.87796262, -0.15147548,  0.18352356,  0.30030605,\n",
       "         0.11689567, -0.37989135, -0.25901246,  1.55693399, -0.46789312]])"
      ]
     },
     "execution_count": 27,
     "metadata": {},
     "output_type": "execute_result"
    }
   ],
   "source": [
    "G"
   ]
  },
  {
   "cell_type": "code",
   "execution_count": 28,
   "metadata": {
    "collapsed": true
   },
   "outputs": [],
   "source": [
    "#############inverse"
   ]
  },
  {
   "cell_type": "code",
   "execution_count": null,
   "metadata": {
    "collapsed": true
   },
   "outputs": [],
   "source": []
  },
  {
   "cell_type": "code",
   "execution_count": null,
   "metadata": {
    "collapsed": true
   },
   "outputs": [],
   "source": []
  },
  {
   "cell_type": "code",
   "execution_count": null,
   "metadata": {
    "collapsed": true
   },
   "outputs": [],
   "source": []
  },
  {
   "cell_type": "code",
   "execution_count": 30,
   "metadata": {},
   "outputs": [
    {
     "data": {
      "text/plain": [
       "array([[-2. ,  1. ],\n",
       "       [ 1.5, -0.5]])"
      ]
     },
     "execution_count": 30,
     "metadata": {},
     "output_type": "execute_result"
    }
   ],
   "source": [
    "A=np.array([[1,2],[3,4]])\n",
    "Ainv=np.linalg.inv(A)\n",
    "Ainv\n"
   ]
  },
  {
   "cell_type": "code",
   "execution_count": 31,
   "metadata": {},
   "outputs": [
    {
     "data": {
      "text/plain": [
       "array([[  1.00000000e+00,   1.11022302e-16],\n",
       "       [  0.00000000e+00,   1.00000000e+00]])"
      ]
     },
     "execution_count": 31,
     "metadata": {},
     "output_type": "execute_result"
    }
   ],
   "source": [
    "A.dot(Ainv)"
   ]
  },
  {
   "cell_type": "code",
   "execution_count": 32,
   "metadata": {},
   "outputs": [
    {
     "data": {
      "text/plain": [
       "array([[  1.00000000e+00,   4.44089210e-16],\n",
       "       [  0.00000000e+00,   1.00000000e+00]])"
      ]
     },
     "execution_count": 32,
     "metadata": {},
     "output_type": "execute_result"
    }
   ],
   "source": [
    "Ainv.dot(A)"
   ]
  },
  {
   "cell_type": "code",
   "execution_count": 33,
   "metadata": {},
   "outputs": [
    {
     "data": {
      "text/plain": [
       "-2.0000000000000004"
      ]
     },
     "execution_count": 33,
     "metadata": {},
     "output_type": "execute_result"
    }
   ],
   "source": [
    "np.linalg.det(A)"
   ]
  },
  {
   "cell_type": "code",
   "execution_count": 34,
   "metadata": {},
   "outputs": [
    {
     "data": {
      "text/plain": [
       "array([1, 4])"
      ]
     },
     "execution_count": 34,
     "metadata": {},
     "output_type": "execute_result"
    }
   ],
   "source": [
    "np.diag(A)##if you pass 2d array u will get 1 d array,if u pass 1 d array u will get 2d array"
   ]
  },
  {
   "cell_type": "code",
   "execution_count": 35,
   "metadata": {},
   "outputs": [
    {
     "data": {
      "text/plain": [
       "array([[1, 0],\n",
       "       [0, 4]])"
      ]
     },
     "execution_count": 35,
     "metadata": {},
     "output_type": "execute_result"
    }
   ],
   "source": [
    "np.diag([1,4])"
   ]
  },
  {
   "cell_type": "code",
   "execution_count": 36,
   "metadata": {},
   "outputs": [
    {
     "data": {
      "text/plain": [
       "array([[3, 4],\n",
       "       [6, 8]])"
      ]
     },
     "execution_count": 36,
     "metadata": {},
     "output_type": "execute_result"
    }
   ],
   "source": [
    "A=np.array([1,2])\n",
    "B=np.array([3,4])\n",
    "np.outer(A,B)\n"
   ]
  },
  {
   "cell_type": "code",
   "execution_count": 38,
   "metadata": {},
   "outputs": [
    {
     "data": {
      "text/plain": [
       "11"
      ]
     },
     "execution_count": 38,
     "metadata": {},
     "output_type": "execute_result"
    }
   ],
   "source": [
    "np.inner(A,B)#dot product"
   ]
  },
  {
   "cell_type": "code",
   "execution_count": 39,
   "metadata": {},
   "outputs": [
    {
     "data": {
      "text/plain": [
       "11"
      ]
     },
     "execution_count": 39,
     "metadata": {},
     "output_type": "execute_result"
    }
   ],
   "source": [
    "A.dot(B)"
   ]
  },
  {
   "cell_type": "code",
   "execution_count": 43,
   "metadata": {},
   "outputs": [
    {
     "data": {
      "text/plain": [
       "3"
      ]
     },
     "execution_count": 43,
     "metadata": {},
     "output_type": "execute_result"
    }
   ],
   "source": [
    "###sum of dia9g\n",
    "np.diag(A).sum()\n"
   ]
  },
  {
   "cell_type": "code",
   "execution_count": 44,
   "metadata": {
    "collapsed": true
   },
   "outputs": [],
   "source": [
    "x=np.random.randn(100,3)"
   ]
  },
  {
   "cell_type": "code",
   "execution_count": 45,
   "metadata": {},
   "outputs": [
    {
     "data": {
      "text/plain": [
       "array([[  1.75847148e+00,  -1.82607495e+00,   1.34322205e+00],\n",
       "       [ -8.72546070e-01,  -7.02432368e-01,  -4.11667394e-01],\n",
       "       [ -1.27563989e+00,   2.99246051e-01,   3.52997914e-01],\n",
       "       [ -1.70700902e-01,  -6.68762574e-01,   1.64570560e+00],\n",
       "       [  5.26740737e-01,   1.66566549e-01,   1.56753889e+00],\n",
       "       [ -1.08152978e+00,   1.56738640e-01,  -1.24704812e+00],\n",
       "       [ -4.91963314e-01,  -4.03025561e-01,   1.09954562e+00],\n",
       "       [  3.42138471e-01,   4.95256849e-01,   6.51699239e-01],\n",
       "       [ -5.94820597e-01,   7.17962424e-01,   6.23963363e-01],\n",
       "       [  1.02549592e+00,   1.41901803e-01,  -2.54487743e-01],\n",
       "       [  5.15019978e-01,   2.25558746e+00,   1.71257883e-01],\n",
       "       [  1.67204982e+00,  -1.01095469e+00,  -1.91589332e-01],\n",
       "       [  8.06935737e-01,   6.82044840e-01,   2.64233180e+00],\n",
       "       [  6.02886045e-02,  -1.52256829e+00,  -1.78419011e-01],\n",
       "       [ -1.06964365e+00,  -2.94523478e-01,   5.35491885e-01],\n",
       "       [  5.92972632e-01,  -2.68674656e-01,   8.14718343e-01],\n",
       "       [  4.21567104e-01,  -4.89070884e-01,   4.66460240e-01],\n",
       "       [ -1.23002724e+00,   1.63443900e+00,   3.80411955e-01],\n",
       "       [ -1.48023874e+00,  -1.20546420e-01,   6.03754099e-01],\n",
       "       [  8.62501957e-01,   1.57231126e+00,  -2.92785912e-01],\n",
       "       [ -1.39379016e+00,   7.66863136e-03,   1.21425072e+00],\n",
       "       [  3.81193249e-02,  -1.30248171e+00,   7.55996836e-02],\n",
       "       [  1.04174136e+00,   1.45753014e-03,  -1.45323782e+00],\n",
       "       [  1.04152927e+00,  -5.92617672e-01,  -4.27628853e-01],\n",
       "       [  4.32042422e-01,   1.31193815e+00,   3.54635783e-01],\n",
       "       [  5.09115028e-01,  -4.77310324e-02,  -1.15552426e+00],\n",
       "       [  1.07439950e-02,  -1.82258283e-01,  -3.96630024e-01],\n",
       "       [ -8.30302715e-01,   2.25681314e-01,   2.30900696e+00],\n",
       "       [  9.19727912e-01,  -1.89594736e-01,   1.25907610e+00],\n",
       "       [ -1.45676918e-01,   1.07703299e+00,  -4.76259512e-01],\n",
       "       [  1.70166902e-01,  -9.33347592e-01,   1.31100880e-01],\n",
       "       [  1.14012271e+00,   2.62497048e-01,  -5.16009961e-01],\n",
       "       [ -8.70058036e-01,  -9.39656817e-01,   2.18134864e-01],\n",
       "       [ -1.81683857e+00,  -1.17692733e+00,  -9.45792034e-01],\n",
       "       [  1.68329388e+00,  -3.98822402e-01,   4.79575615e-01],\n",
       "       [ -7.25664071e-01,   5.75659576e-01,  -3.99392116e-01],\n",
       "       [ -9.72594366e-01,   5.18679577e-01,   6.80677467e-02],\n",
       "       [ -1.90489187e-02,   1.49378477e-01,  -2.83919778e-01],\n",
       "       [ -2.57104982e+00,   3.55459275e-01,  -9.02690508e-01],\n",
       "       [  1.41431937e+00,   2.34041774e+00,  -7.08672452e-01],\n",
       "       [ -6.59436782e-01,  -3.40127928e-01,   1.29054989e+00],\n",
       "       [  1.39392543e+00,  -6.03252605e-01,  -9.77276873e-01],\n",
       "       [ -8.34242262e-01,   1.09804513e+00,  -7.39314093e-01],\n",
       "       [ -4.63278897e-01,  -1.33270691e+00,  -1.76517760e+00],\n",
       "       [ -1.59109571e-02,  -6.69185365e-01,  -1.51137665e-01],\n",
       "       [  3.59104985e-01,   8.06708416e-01,  -2.67868603e-02],\n",
       "       [  8.59833188e-02,  -2.01654659e-01,   8.68050457e-01],\n",
       "       [ -1.05294203e-01,  -1.03084923e+00,   9.91875504e-01],\n",
       "       [ -4.56172880e-01,   1.17458647e+00,   1.21598280e-01],\n",
       "       [ -1.02891649e+00,   2.97535810e-01,   4.88678106e-02],\n",
       "       [ -1.14626838e+00,  -1.44179230e+00,  -1.49531356e+00],\n",
       "       [ -5.70261071e-01,   5.27913520e-01,  -1.78612277e+00],\n",
       "       [  4.81693444e-01,  -1.45539458e+00,  -8.76566760e-01],\n",
       "       [ -2.11102169e+00,  -1.29640684e+00,   6.65951684e-01],\n",
       "       [  5.12921235e-01,   1.12135658e+00,  -9.46669869e-01],\n",
       "       [  1.78567712e+00,   1.31263104e-01,  -5.13734888e-01],\n",
       "       [ -6.13788063e-01,  -1.13110381e+00,   7.65740693e-01],\n",
       "       [ -9.86473802e-01,   2.82538390e-01,  -4.76864629e-01],\n",
       "       [ -1.34511858e+00,  -8.90907462e-01,   2.99622999e-01],\n",
       "       [  2.66744183e-02,   1.28501238e+00,   7.59738118e-01],\n",
       "       [ -3.84629486e-02,  -3.94928917e-02,   1.40041118e-01],\n",
       "       [ -5.98185153e-01,  -7.04471776e-01,  -3.34327988e-01],\n",
       "       [ -1.23733947e+00,  -1.35866160e+00,  -9.66589908e-01],\n",
       "       [  1.06449192e+00,  -7.41095584e-01,   3.88146213e-01],\n",
       "       [  2.10947057e+00,   6.40352848e-02,   1.05422189e+00],\n",
       "       [ -6.11234213e-01,  -2.93666672e-01,  -1.83348217e-01],\n",
       "       [  8.20949029e-01,   2.27637843e-02,  -6.11066403e-01],\n",
       "       [ -1.38022081e+00,   1.06719628e+00,  -4.76272858e-01],\n",
       "       [ -2.72617275e-01,   8.40569157e-01,  -1.10926834e+00],\n",
       "       [  4.02906592e-01,  -5.63306508e-01,   3.97054510e-01],\n",
       "       [ -9.20785679e-01,  -5.30672822e-01,  -3.32890335e-01],\n",
       "       [  7.58679439e-01,  -1.64151719e+00,   1.71670586e-01],\n",
       "       [  4.64229466e-01,  -2.51881086e+00,  -5.26488850e-01],\n",
       "       [  1.30285662e-01,   4.79012724e-01,   8.03379359e-01],\n",
       "       [ -7.49939243e-02,   1.61937436e+00,  -1.13323369e-01],\n",
       "       [ -1.55751182e-01,   5.09172070e-01,  -1.08290084e+00],\n",
       "       [  1.38151432e+00,  -1.25700122e+00,   8.14286768e-01],\n",
       "       [  2.38565175e+00,   6.22945695e-01,  -7.86527765e-01],\n",
       "       [  1.37365509e+00,  -9.79492009e-01,  -4.71080348e-01],\n",
       "       [  1.27301053e-01,  -1.34346694e+00,   1.43948773e+00],\n",
       "       [ -5.64860516e-02,  -1.39602130e+00,  -1.49906136e+00],\n",
       "       [ -6.43912195e-01,  -3.84708416e-01,  -2.05837744e+00],\n",
       "       [  3.22707427e-03,   1.87180382e+00,  -2.47651244e-01],\n",
       "       [  4.20385832e-01,   2.68782378e+00,   1.20067825e+00],\n",
       "       [  3.42256603e-01,   1.56858815e+00,  -1.65150847e-01],\n",
       "       [ -6.87936841e-02,   5.62197507e-01,   1.01695035e+00],\n",
       "       [  1.45079214e+00,  -4.04522878e-01,  -1.66470461e+00],\n",
       "       [ -3.34814625e-01,  -1.61528250e+00,   7.48603050e-01],\n",
       "       [  6.66430035e-01,  -6.39399174e-01,   1.08329566e-01],\n",
       "       [ -7.97847870e-01,  -1.61763249e+00,   5.08760814e-01],\n",
       "       [ -3.34395631e-01,  -7.56650439e-02,  -1.00642887e-01],\n",
       "       [  1.56578166e+00,   6.53992758e-01,  -6.34287107e-01],\n",
       "       [ -1.33256801e+00,   3.69071590e-01,   2.35599906e+00],\n",
       "       [  1.16906307e+00,  -9.59134943e-01,  -1.39637321e+00],\n",
       "       [  1.79741411e+00,  -2.08373673e+00,  -2.45185137e-01],\n",
       "       [ -1.42219815e+00,  -5.55744889e-01,  -7.71943740e-01],\n",
       "       [ -2.17168598e-01,   6.45165016e-01,  -2.07610445e+00],\n",
       "       [  7.22718684e-01,  -1.08999562e+00,   1.89354900e+00],\n",
       "       [  1.18116673e+00,   7.16027260e-01,  -1.41764133e+00],\n",
       "       [ -1.91277362e-02,   3.62497860e-01,  -6.06088843e-01]])"
      ]
     },
     "execution_count": 45,
     "metadata": {},
     "output_type": "execute_result"
    }
   ],
   "source": [
    "x"
   ]
  },
  {
   "cell_type": "code",
   "execution_count": 47,
   "metadata": {},
   "outputs": [],
   "source": [
    "cov=np.cov(x)  #covariance"
   ]
  },
  {
   "cell_type": "code",
   "execution_count": 49,
   "metadata": {},
   "outputs": [
    {
     "data": {
      "text/plain": [
       "(100, 100)"
      ]
     },
     "execution_count": 49,
     "metadata": {},
     "output_type": "execute_result"
    }
   ],
   "source": [
    "cov.shape"
   ]
  },
  {
   "cell_type": "code",
   "execution_count": 50,
   "metadata": {
    "collapsed": true
   },
   "outputs": [],
   "source": [
    "cov=np.cov(x.T)"
   ]
  },
  {
   "cell_type": "code",
   "execution_count": 51,
   "metadata": {},
   "outputs": [
    {
     "data": {
      "text/plain": [
       "array([[ 1.00291174, -0.00332648, -0.01726217],\n",
       "       [-0.00332648,  1.04986297, -0.00950666],\n",
       "       [-0.01726217, -0.00950666,  0.95221969]])"
      ]
     },
     "execution_count": 51,
     "metadata": {},
     "output_type": "execute_result"
    }
   ],
   "source": [
    "cov\n"
   ]
  },
  {
   "cell_type": "code",
   "execution_count": 53,
   "metadata": {},
   "outputs": [
    {
     "data": {
      "text/plain": [
       "(array([ 0.94592509,  1.00822839,  1.05084092]),\n",
       " array([[ 0.29370665,  0.9551852 ,  0.03684626],\n",
       "        [ 0.09638516,  0.00875675, -0.99530559],\n",
       "        [ 0.95102382, -0.2958793 ,  0.08949376]]))"
      ]
     },
     "execution_count": 53,
     "metadata": {},
     "output_type": "execute_result"
    }
   ],
   "source": [
    "np.linalg.eigh(cov) ##eighen values and eigen vectors"
   ]
  },
  {
   "cell_type": "code",
   "execution_count": null,
   "metadata": {
    "collapsed": true
   },
   "outputs": [],
   "source": []
  }
 ],
 "metadata": {
  "kernelspec": {
   "display_name": "Python 3",
   "language": "python",
   "name": "python3"
  },
  "language_info": {
   "codemirror_mode": {
    "name": "ipython",
    "version": 3
   },
   "file_extension": ".py",
   "mimetype": "text/x-python",
   "name": "python",
   "nbconvert_exporter": "python",
   "pygments_lexer": "ipython3",
   "version": "3.6.2"
  }
 },
 "nbformat": 4,
 "nbformat_minor": 2
}
